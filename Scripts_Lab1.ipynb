{
  "cells": [
    {
      "cell_type": "code",
      "execution_count": null,
      "metadata": {
        "id": "KI484vE6SlAR"
      },
      "outputs": [],
      "source": [
        "import requests\n",
        "import json"
      ]
    },
    {
      "cell_type": "code",
      "execution_count": 2,
      "metadata": {
        "id": "40so1L7jUsG6"
      },
      "outputs": [],
      "source": [
        "base_url = \"https://jsonplaceholder.typicode.com\""
      ]
    },
    {
      "cell_type": "markdown",
      "metadata": {
        "id": "THYTm5qXW_aG"
      },
      "source": [
        "Задача 1"
      ]
    },
    {
      "cell_type": "code",
      "execution_count": 3,
      "metadata": {
        "colab": {
          "base_uri": "https://localhost:8080/"
        },
        "id": "76Jrdgd0SsMJ",
        "outputId": "446340a0-831d-427c-897f-eaf15a164f42"
      },
      "outputs": [
        {
          "name": "stdout",
          "output_type": "stream",
          "text": [
            "Post ID: 11, User ID: 2, Title: et ea vero quia laudantium autem\n",
            "Post ID: 12, User ID: 2, Title: in quibusdam tempore odit est dolorem\n",
            "Post ID: 13, User ID: 2, Title: dolorum ut in voluptas mollitia et saepe quo animi\n",
            "Post ID: 14, User ID: 2, Title: voluptatem eligendi optio\n",
            "Post ID: 15, User ID: 2, Title: eveniet quod temporibus\n",
            "Post ID: 16, User ID: 2, Title: sint suscipit perspiciatis velit dolorum rerum ipsa laboriosam odio\n",
            "Post ID: 17, User ID: 2, Title: fugit voluptas sed molestias voluptatem provident\n",
            "Post ID: 18, User ID: 2, Title: voluptate et itaque vero tempora molestiae\n",
            "Post ID: 19, User ID: 2, Title: adipisci placeat illum aut reiciendis qui\n",
            "Post ID: 20, User ID: 2, Title: doloribus ad provident suscipit at\n",
            "Post ID: 31, User ID: 4, Title: ullam ut quidem id aut vel consequuntur\n",
            "Post ID: 32, User ID: 4, Title: doloremque illum aliquid sunt\n",
            "Post ID: 33, User ID: 4, Title: qui explicabo molestiae dolorem\n",
            "Post ID: 34, User ID: 4, Title: magnam ut rerum iure\n",
            "Post ID: 35, User ID: 4, Title: id nihil consequatur molestias animi provident\n",
            "Post ID: 36, User ID: 4, Title: fuga nam accusamus voluptas reiciendis itaque\n",
            "Post ID: 37, User ID: 4, Title: provident vel ut sit ratione est\n",
            "Post ID: 38, User ID: 4, Title: explicabo et eos deleniti nostrum ab id repellendus\n",
            "Post ID: 39, User ID: 4, Title: eos dolorem iste accusantium est eaque quam\n",
            "Post ID: 40, User ID: 4, Title: enim quo cumque\n",
            "Post ID: 51, User ID: 6, Title: soluta aliquam aperiam consequatur illo quis voluptas\n",
            "Post ID: 52, User ID: 6, Title: qui enim et consequuntur quia animi quis voluptate quibusdam\n",
            "Post ID: 53, User ID: 6, Title: ut quo aut ducimus alias\n",
            "Post ID: 54, User ID: 6, Title: sit asperiores ipsam eveniet odio non quia\n",
            "Post ID: 55, User ID: 6, Title: sit vel voluptatem et non libero\n",
            "Post ID: 56, User ID: 6, Title: qui et at rerum necessitatibus\n",
            "Post ID: 57, User ID: 6, Title: sed ab est est\n",
            "Post ID: 58, User ID: 6, Title: voluptatum itaque dolores nisi et quasi\n",
            "Post ID: 59, User ID: 6, Title: qui commodi dolor at maiores et quis id accusantium\n",
            "Post ID: 60, User ID: 6, Title: consequatur placeat omnis quisquam quia reprehenderit fugit veritatis facere\n",
            "Post ID: 71, User ID: 8, Title: et iusto veniam et illum aut fuga\n",
            "Post ID: 72, User ID: 8, Title: sint hic doloribus consequatur eos non id\n",
            "Post ID: 73, User ID: 8, Title: consequuntur deleniti eos quia temporibus ab aliquid at\n",
            "Post ID: 74, User ID: 8, Title: enim unde ratione doloribus quas enim ut sit sapiente\n",
            "Post ID: 75, User ID: 8, Title: dignissimos eum dolor ut enim et delectus in\n",
            "Post ID: 76, User ID: 8, Title: doloremque officiis ad et non perferendis\n",
            "Post ID: 77, User ID: 8, Title: necessitatibus quasi exercitationem odio\n",
            "Post ID: 78, User ID: 8, Title: quam voluptatibus rerum veritatis\n",
            "Post ID: 79, User ID: 8, Title: pariatur consequatur quia magnam autem omnis non amet\n",
            "Post ID: 80, User ID: 8, Title: labore in ex et explicabo corporis aut quas\n",
            "Post ID: 91, User ID: 10, Title: aut amet sed\n",
            "Post ID: 92, User ID: 10, Title: ratione ex tenetur perferendis\n",
            "Post ID: 93, User ID: 10, Title: beatae soluta recusandae\n",
            "Post ID: 94, User ID: 10, Title: qui qui voluptates illo iste minima\n",
            "Post ID: 95, User ID: 10, Title: id minus libero illum nam ad officiis\n",
            "Post ID: 96, User ID: 10, Title: quaerat velit veniam amet cupiditate aut numquam ut sequi\n",
            "Post ID: 97, User ID: 10, Title: quas fugiat ut perspiciatis vero provident\n",
            "Post ID: 98, User ID: 10, Title: laboriosam dolor voluptates\n",
            "Post ID: 99, User ID: 10, Title: temporibus sit alias delectus eligendi possimus magni\n",
            "Post ID: 100, User ID: 10, Title: at nam consequatur ea labore ea harum\n",
            "Failed to fetch posts. Status code: 200\n"
          ]
        }
      ],
      "source": [
        "response = requests.get(f\"{base_url}/posts\")\n",
        "posts = response.json()\n",
        "even_user_posts = [post for post in posts if post['userId'] % 2 == 0]\n",
        "for post in even_user_posts:\n",
        "    print(f\"Post ID: {post['id']}, User ID: {post['userId']}, Title: {post['title']}\")\n",
        "\n"
      ]
    },
    {
      "cell_type": "markdown",
      "metadata": {
        "id": "LCBY_xrlXCgh"
      },
      "source": [
        "Задача 2"
      ]
    },
    {
      "cell_type": "code",
      "execution_count": 6,
      "metadata": {
        "colab": {
          "base_uri": "https://localhost:8080/"
        },
        "id": "WbyqyFbOVEtT",
        "outputId": "3ad586aa-6619-45fd-9c88-c6427be0b326"
      },
      "outputs": [
        {
          "name": "stdout",
          "output_type": "stream",
          "text": [
            "Созданный пост:\n",
            "{'title': 'Тестовый пост', 'body': 'Я в своем познании настолько преисполнился, что я как будто бы уже\\nсто триллионов миллиардов лет проживаю на триллионах и\\nтриллионах таких же планет, как эта Земля, мне этот мир абсолютно\\nпонятен, и я здесь ищу только одного - покоя, умиротворения и\\nвот этой гармонии, от слияния с бесконечно вечным, от созерцания\\nвеликого фрактального подобия и от вот этого замечательного всеединства\\nсущества, бесконечно вечного, куда ни посмотри, хоть вглубь - бесконечно\\nмалое, хоть ввысь - бесконечное большое, понимаешь? А ты мне опять со\\nсвоим вот этим, иди суетись дальше, это твоё распределение, это\\nтвой путь и твой горизонт познания и ощущения твоей природы, он\\nнесоизмеримо мелок по сравнению с моим, понимаешь? Я как будто бы уже\\nдавно глубокий старец, бессмертный, ну или там уже почти бессмертный,\\nкоторый на этой планете от её самого зарождения, ещё когда только Солнце\\nтолько-только сформировалось как звезда, и вот это газопылевое облако,\\nвот, после взрыва, Солнца, когда оно вспыхнуло, как звезда, начало\\nформировать вот эти коацерваты, планеты, понимаешь, я на этой Земле уже\\nкак будто почти пять миллиардов лет живу и знаю её вдоль и поперёк\\nэтот весь мир, а ты мне какие-то... мне не важно на твои тачки, на твои\\nяхты, на твои квартиры, там, на твоё благо. Я был на этой\\nпланете бесконечным множеством, и круче Цезаря, и круче Гитлера, и круче\\nвсех великих, понимаешь, был, а где-то был конченым говном, ещё хуже,\\nчем здесь. Я множество этих состояний чувствую. Где-то я был больше\\nподобен растению, где-то я больше был подобен птице, там, червю, где-то\\nбыл просто сгусток камня, это всё есть душа, понимаешь? Она имеет грани\\nподобия совершенно многообразные, бесконечное множество. Но тебе этого\\nне понять, поэтому ты езжай себе , мы в этом мире как бы живем\\nразными ощущениями и разными стремлениями, соответственно, разное наше и\\nместо, разное и наше распределение. Тебе я желаю все самые крутые тачки\\nчтоб были у тебя, и все самые лучше самки, если мало идей, обращайся ко мне, \\nя тебе на каждую твою идею предложу сотню триллионов, как всё делать. Ну а я всё,\\n я иду как глубокий старец,узревший вечное, прикоснувшийся к Божественному, \\n сам стал богоподобен и устремлен в это бесконечное, и который в умиротворении, \\n покое, гармонии, благодати, в этом сокровенном блаженстве пребывает, вовлеченный \\n во всё и во вся, понимаешь, вот и всё, в этом наша разница. Так что я иду любоваться \\n мирозданием, а ты идёшь преисполняться в ГРАНЯХ каких-то, вот и вся разница, понимаешь,\\n  ты не зришь это вечное бесконечное, оно тебе не нужно. Ну зато ты, так сказать, более \\n  активен, как вот этот дятел долбящий, или муравей, который очень активен в своей стезе, \\n  поэтому давай, наши пути здесь, конечно, имеют грани подобия, потому что всё едино, \\n  но я-то тебя прекрасно понимаю, а вот ты меня - вряд ли, потому что я как бы тебя в себе \\n  содержу, всю твою природу, она составляет одну маленькую там песчиночку, от того что есть \\n  во мне, вот и всё, поэтому давай, ступай, езжай, а я пошел наслаждаться прекрасным осенним \\n  закатом на берегу теплой южной реки. Всё, ступай, и я пойду.', 'userId': 565, 'id': 101}\n"
          ]
        }
      ],
      "source": [
        "new_post_data = {\n",
        "        \"title\": \"Тестовый пост\",\n",
        "        \"body\": \"\"\"Я в своем познании настолько преисполнился, что я как будто бы уже\n",
        "сто триллионов миллиардов лет проживаю на триллионах и\n",
        "триллионах таких же планет, как эта Земля, мне этот мир абсолютно\n",
        "понятен, и я здесь ищу только одного - покоя, умиротворения и\n",
        "вот этой гармонии, от слияния с бесконечно вечным, от созерцания\n",
        "великого фрактального подобия и от вот этого замечательного всеединства\n",
        "существа, бесконечно вечного, куда ни посмотри, хоть вглубь - бесконечно\n",
        "малое, хоть ввысь - бесконечное большое, понимаешь? А ты мне опять со\n",
        "своим вот этим, иди суетись дальше, это твоё распределение, это\n",
        "твой путь и твой горизонт познания и ощущения твоей природы, он\n",
        "несоизмеримо мелок по сравнению с моим, понимаешь? Я как будто бы уже\n",
        "давно глубокий старец, бессмертный, ну или там уже почти бессмертный,\n",
        "который на этой планете от её самого зарождения, ещё когда только Солнце\n",
        "только-только сформировалось как звезда, и вот это газопылевое облако,\n",
        "вот, после взрыва, Солнца, когда оно вспыхнуло, как звезда, начало\n",
        "формировать вот эти коацерваты, планеты, понимаешь, я на этой Земле уже\n",
        "как будто почти пять миллиардов лет живу и знаю её вдоль и поперёк\n",
        "этот весь мир, а ты мне какие-то... мне не важно на твои тачки, на твои\n",
        "яхты, на твои квартиры, там, на твоё благо. Я был на этой\n",
        "планете бесконечным множеством, и круче Цезаря, и круче Гитлера, и круче\n",
        "всех великих, понимаешь, был, а где-то был конченым говном, ещё хуже,\n",
        "чем здесь. Я множество этих состояний чувствую. Где-то я был больше\n",
        "подобен растению, где-то я больше был подобен птице, там, червю, где-то\n",
        "был просто сгусток камня, это всё есть душа, понимаешь? Она имеет грани\n",
        "подобия совершенно многообразные, бесконечное множество. Но тебе этого\n",
        "не понять, поэтому ты езжай себе , мы в этом мире как бы живем\n",
        "разными ощущениями и разными стремлениями, соответственно, разное наше и\n",
        "место, разное и наше распределение. Тебе я желаю все самые крутые тачки\n",
        "чтоб были у тебя, и все самые лучше самки, если мало идей, обращайся ко мне,\n",
        "я тебе на каждую твою идею предложу сотню триллионов, как всё делать. Ну а я всё,\n",
        " я иду как глубокий старец,узревший вечное, прикоснувшийся к Божественному,\n",
        " сам стал богоподобен и устремлен в это бесконечное, и который в умиротворении,\n",
        " покое, гармонии, благодати, в этом сокровенном блаженстве пребывает, вовлеченный\n",
        " во всё и во вся, понимаешь, вот и всё, в этом наша разница. Так что я иду любоваться\n",
        " мирозданием, а ты идёшь преисполняться в ГРАНЯХ каких-то, вот и вся разница, понимаешь,\n",
        "  ты не зришь это вечное бесконечное, оно тебе не нужно. Ну зато ты, так сказать, более\n",
        "  активен, как вот этот дятел долбящий, или муравей, который очень активен в своей стезе,\n",
        "  поэтому давай, наши пути здесь, конечно, имеют грани подобия, потому что всё едино,\n",
        "  но я-то тебя прекрасно понимаю, а вот ты меня - вряд ли, потому что я как бы тебя в себе\n",
        "  содержу, всю твою природу, она составляет одну маленькую там песчиночку, от того что есть\n",
        "  во мне, вот и всё, поэтому давай, ступай, езжай, а я пошел наслаждаться прекрасным осенним\n",
        "  закатом на берегу теплой южной реки. Всё, ступай, и я пойду.\"\"\",\n",
        "        \"userId\": 565\n",
        "    }\n",
        "resp = requests.post(f\"{base_url}/posts\", json=new_post_data)\n",
        "\n",
        "created_post = resp.json()\n",
        "print(\"Созданный пост:\")\n",
        "print(created_post)\n",
        "\n"
      ]
    },
    {
      "cell_type": "markdown",
      "metadata": {
        "id": "-XPHFaoOXEyk"
      },
      "source": [
        "Задача 3"
      ]
    },
    {
      "cell_type": "code",
      "execution_count": 8,
      "metadata": {
        "colab": {
          "base_uri": "https://localhost:8080/"
        },
        "id": "0el4hd96WnvO",
        "outputId": "2268d77b-7e7e-47d2-a215-7743fff2e226"
      },
      "outputs": [
        {
          "name": "stdout",
          "output_type": "stream",
          "text": [
            "Обновлённый пост:\n",
            "{'title': 'Обновлённый пост', 'body': 'Монолог идущего к реке', 'userId': 1, 'id': 2}\n"
          ]
        }
      ],
      "source": [
        "updated_post_data = {\n",
        "        \"title\": \"Обновлённый пост\",\n",
        "        \"body\": \"Монолог идущего к реке\",\n",
        "        \"userId\": 1\n",
        "    }\n",
        "res = requests.put(f\"{base_url}/posts/2\", json=updated_post_data)\n",
        "\n",
        "updated_post = res.json()\n",
        "print(\"Обновлённый пост:\")\n",
        "print(updated_post)"
      ]
    }
  ],
  "metadata": {
    "colab": {
      "provenance": []
    },
    "kernelspec": {
      "display_name": "Python 3",
      "name": "python3"
    },
    "language_info": {
      "name": "python"
    }
  },
  "nbformat": 4,
  "nbformat_minor": 0
}
